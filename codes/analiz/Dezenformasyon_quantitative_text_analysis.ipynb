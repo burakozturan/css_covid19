{
  "nbformat": 4,
  "nbformat_minor": 0,
  "metadata": {
    "colab": {
      "name": "Disinfo quantitative_text_analysis.ipynb",
      "provenance": [],
      "collapsed_sections": []
    },
    "kernelspec": {
      "name": "python3",
      "display_name": "Python 3"
    },
    "accelerator": "GPU"
  },
  "cells": [
    {
      "cell_type": "markdown",
      "metadata": {
        "id": "ijGVh7j5XdR4",
        "colab_type": "text"
      },
      "source": [
        "# Kurulum ve Gerekli Modullerin Yuklenmesi"
      ]
    },
    {
      "cell_type": "code",
      "metadata": {
        "id": "i-0r_-5dwN4Z",
        "colab_type": "code",
        "outputId": "a5cde68d-0e1b-4bad-f1e9-ad746e1ca666",
        "colab": {
          "base_uri": "https://localhost:8080/",
          "height": 122
        }
      },
      "source": [
        "from google.colab import drive\n",
        "drive.mount('/content/gdrive')\n",
        "import sys\n",
        "import os"
      ],
      "execution_count": 0,
      "outputs": [
        {
          "output_type": "stream",
          "text": [
            "Go to this URL in a browser: https://accounts.google.com/o/oauth2/auth?client_id=947318989803-6bn6qk8qdgf4n4g3pfee6491hc0brc4i.apps.googleusercontent.com&redirect_uri=urn%3aietf%3awg%3aoauth%3a2.0%3aoob&response_type=code&scope=email%20https%3a%2f%2fwww.googleapis.com%2fauth%2fdocs.test%20https%3a%2f%2fwww.googleapis.com%2fauth%2fdrive%20https%3a%2f%2fwww.googleapis.com%2fauth%2fdrive.photos.readonly%20https%3a%2f%2fwww.googleapis.com%2fauth%2fpeopleapi.readonly\n",
            "\n",
            "Enter your authorization code:\n",
            "··········\n",
            "Mounted at /content/gdrive\n"
          ],
          "name": "stdout"
        }
      ]
    },
    {
      "cell_type": "code",
      "metadata": {
        "id": "rn3Ruo74weD9",
        "colab_type": "code",
        "outputId": "e5f14688-b0f8-4ee4-a64d-bbf84acc8bc4",
        "colab": {
          "base_uri": "https://localhost:8080/",
          "height": 85
        }
      },
      "source": [
        "import pandas as pd\n",
        "import matplotlib.pyplot as plt\n",
        "import matplotlib\n",
        "import matplotlib.pyplot as plt\n",
        "import numpy as np\n",
        "import nltk\n",
        "import os\n",
        "from nltk import sent_tokenize, word_tokenize\n",
        "from nltk.stem.snowball import SnowballStemmer\n",
        "from nltk.stem.wordnet import WordNetLemmatizer\n",
        "import nltk\n",
        "\n",
        "nltk.download('stopwords')\n",
        "import matplotlib.pyplot as plt\n",
        "import pandas as pd\n",
        "\n",
        "nltk.download('punkt')\n",
        "import string\n",
        "from nltk.corpus import stopwords\n",
        "import pandas as pd\n",
        "import numpy as np\n",
        "import re   "
      ],
      "execution_count": 0,
      "outputs": [
        {
          "output_type": "stream",
          "text": [
            "[nltk_data] Downloading package stopwords to /root/nltk_data...\n",
            "[nltk_data]   Unzipping corpora/stopwords.zip.\n",
            "[nltk_data] Downloading package punkt to /root/nltk_data...\n",
            "[nltk_data]   Unzipping tokenizers/punkt.zip.\n"
          ],
          "name": "stdout"
        }
      ]
    },
    {
      "cell_type": "markdown",
      "metadata": {
        "id": "acY_4ndZXoql",
        "colab_type": "text"
      },
      "source": [
        "# Incelenecek konu basligindaki tweetlerin yuklenmesi "
      ]
    },
    {
      "cell_type": "markdown",
      "metadata": {
        "id": "zpq5tClcXy-9",
        "colab_type": "text"
      },
      "source": [
        "Burada ornek olarak ulkeler konu basligi gosteriliyor gosteriliyor"
      ]
    },
    {
      "cell_type": "code",
      "metadata": {
        "id": "_CO2N95Dxs7-",
        "colab_type": "code",
        "colab": {}
      },
      "source": [
        "os.chdir(\"/content/gdrive/My Drive/css/dezenformasyon_before\")\n",
        "df3 = pd.read_csv(\"/content/gdrive/My Drive/css/dezenformasyon_before/dezenformasyon_before_nodublication.csv\", engine = 'python')\n",
        "df3['tweet'] = df3['tweet'].astype(str)"
      ],
      "execution_count": 0,
      "outputs": []
    },
    {
      "cell_type": "markdown",
      "metadata": {
        "id": "6wyEtM7dX7qM",
        "colab_type": "text"
      },
      "source": [
        "Data pre-processing (on temizlemesi):\n",
        "\n",
        "1.   kucuk harfe cevirme\n",
        "2.   turkce karakter uyumlarini duzeltme\n",
        "3.   ozel karakterleri, noktalamalari temizleme\n"
      ]
    },
    {
      "cell_type": "code",
      "metadata": {
        "id": "krEM51FQ20TP",
        "colab_type": "code",
        "colab": {}
      },
      "source": [
        "df3.tweet = df3.tweet.apply(lambda x: re.sub(r\"İ\", \"i\",x)) #harika calisiyor\n",
        "df3.tweet = df3.tweet.apply(lambda x: x.lower())\n",
        "df3.loc[:,\"tweet\"] = df3.tweet.apply(lambda x : \" \".join(re.findall('[\\w]+',x)))"
      ],
      "execution_count": 0,
      "outputs": []
    },
    {
      "cell_type": "markdown",
      "metadata": {
        "id": "hhMXbK5KYyzz",
        "colab_type": "text"
      },
      "source": [
        "# Tokenize islemi, stop wordlerin atilmasi ve kelime frequencylerini (kullanim sayilarini) ileride gelecek gorsellestirme icin kaydetme"
      ]
    },
    {
      "cell_type": "code",
      "metadata": {
        "id": "19P5PmKk3Lhb",
        "colab_type": "code",
        "outputId": "90f5c719-4c66-485d-a869-51a43e04f2e0",
        "colab": {
          "base_uri": "https://localhost:8080/",
          "height": 255
        }
      },
      "source": [
        "top_N = 10\n",
        "\n",
        "\n",
        "txt = df3.tweet.str.lower().str.replace(r'\\|', ' ').str.cat(sep=' ')\n",
        "words = nltk.tokenize.word_tokenize(txt)\n",
        "word_dist = nltk.FreqDist(words)\n",
        "\n",
        "user_defined_stop_words = ['ekonomi', '1', 'ye', 'nin' ,'nın',  'koronavirüs', 'olsun', 'karşı' , 'covid_19', 'artık', '3', 'sayısı' , 'olarak', 'oldu', 'olan', '2' , 'nedeniyle','bile' , 'sonra' ,'sen','virüs', 'ben', 'vaka' , 'son', 'yeni', 'sayi', 'sayisi','virüsü','bir','com','twitter', 'kadar', 'dan' , 'değil' ,'pic' , 'http', 'https' , 'www' , 'status' , 'var', 'bi', 'mi','yok', 'bu' , 've', 'korona' ,'corona' ,'19' ,'kovid', 'covid'] \n",
        "\n",
        "i = nltk.corpus.stopwords.words('turkish')\n",
        "j = list(string.punctuation) + user_defined_stop_words\n",
        "stopwords = set(i).union(j)\n",
        "\n",
        "\n",
        "words_except_stop_dist = nltk.FreqDist(w for w in words if w not in stopwords) \n",
        "\n",
        "print('All frequencies, including STOPWORDS:')\n",
        "print('=' * 60)\n",
        "rslt3 = pd.DataFrame(word_dist.most_common(top_N),\n",
        "                    columns=['Word', 'Frequency'])\n",
        "print(rslt3)\n",
        "print('=' * 60)\n",
        "\n",
        "rslt3 = pd.DataFrame(words_except_stop_dist.most_common(top_N),\n",
        "                    columns=['Word', 'Frequency']).set_index('Word')"
      ],
      "execution_count": 0,
      "outputs": [
        {
          "output_type": "stream",
          "text": [
            "All frequencies, including STOPWORDS:\n",
            "============================================================\n",
            "      Word  Frequency\n",
            "0    sahte      38177\n",
            "1      bir      15496\n",
            "2       bu      14100\n",
            "3       ve      13806\n",
            "4      com      11712\n",
            "5  twitter       9524\n",
            "6       da       6823\n",
            "7       de       6647\n",
            "8    https       6300\n",
            "9   komplo       6014\n",
            "============================================================\n"
          ],
          "name": "stdout"
        }
      ]
    },
    {
      "cell_type": "markdown",
      "metadata": {
        "id": "kzrbLrR-Y3E0",
        "colab_type": "text"
      },
      "source": [
        "# TR deki ilk vakan onceki tweetlerin incelenmek icin yuklenmesi"
      ]
    },
    {
      "cell_type": "code",
      "metadata": {
        "id": "_TDc9dTG3aIu",
        "colab_type": "code",
        "colab": {}
      },
      "source": [
        "df2 = pd.read_csv(\"/content/gdrive/My Drive/css/dezenformasyon_after/dezenformasyon_after_nodublication.csv\", engine = 'python')\n",
        "\n",
        "df2['tweet'] = df2['tweet'].astype(str)"
      ],
      "execution_count": 0,
      "outputs": []
    },
    {
      "cell_type": "code",
      "metadata": {
        "id": "-aQTVleRxzpU",
        "colab_type": "code",
        "colab": {}
      },
      "source": [
        "df2['tweet'] = df2['tweet'].astype(str)\n",
        "df2.tweet = df2.tweet.apply(lambda x: re.sub(r\"İ\", \"i\",x)) #harika calisiyor\n",
        "df2.tweet = df2.tweet.apply(lambda x: x.lower())\n",
        "df2.loc[:,\"tweet\"] = df2.tweet.apply(lambda x : \" \".join(re.findall('[\\w]+',x)))"
      ],
      "execution_count": 0,
      "outputs": []
    },
    {
      "cell_type": "code",
      "metadata": {
        "id": "yqA-y-AW4awX",
        "colab_type": "code",
        "outputId": "704de939-a7f8-44fc-9924-7dae910cab0b",
        "colab": {
          "base_uri": "https://localhost:8080/",
          "height": 255
        }
      },
      "source": [
        "top_N = 10\n",
        "\n",
        "\n",
        "txt = df2.tweet.str.lower().str.replace(r'\\|', ' ').str.cat(sep=' ')\n",
        "words = nltk.tokenize.word_tokenize(txt)\n",
        "word_dist = nltk.FreqDist(words)\n",
        "\n",
        "user_defined_stop_words = ['ekonomi', '1', 'ye', 'nin' ,'nın',  'koronavirüs', 'olsun', 'karşı' , 'covid_19', 'artık', '3', 'sayısı' , 'olarak', 'oldu', 'olan', '2' , 'nedeniyle','bile' , 'sonra' ,'sen','virüs', 'ben', 'vaka' , 'son', 'yeni', 'sayi', 'sayisi','virüsü','bir','com','twitter', 'kadar', 'dan' , 'değil' ,'pic' , 'http', 'https' , 'www' , 'status' , 'var', 'bi', 'mi','yok', 'bu' , 've', 'korona' ,'corona' ,'19' ,'kovid', 'covid'] \n",
        "\n",
        "i = nltk.corpus.stopwords.words('turkish')\n",
        "j = list(string.punctuation) + user_defined_stop_words\n",
        "stopwords = set(i).union(j)\n",
        "\n",
        "\n",
        "words_except_stop_dist = nltk.FreqDist(w for w in words if w not in stopwords) \n",
        "\n",
        "print('All frequencies, including STOPWORDS:')\n",
        "print('=' * 60)\n",
        "rslt = pd.DataFrame(word_dist.most_common(top_N),\n",
        "                    columns=['Word', 'Frequency'])\n",
        "print(rslt)\n",
        "print('=' * 60)\n",
        "\n",
        "rslt = pd.DataFrame(words_except_stop_dist.most_common(top_N),\n",
        "                    columns=['Word', 'Frequency']).set_index('Word')\n",
        "\n"
      ],
      "execution_count": 0,
      "outputs": [
        {
          "output_type": "stream",
          "text": [
            "All frequencies, including STOPWORDS:\n",
            "============================================================\n",
            "      Word  Frequency\n",
            "0    sahte      37777\n",
            "1      bir      30686\n",
            "2   komplo      29424\n",
            "3       bu      28859\n",
            "4       ve      25136\n",
            "5      com      20487\n",
            "6  twitter      16939\n",
            "7       da      12807\n",
            "8       de      12445\n",
            "9    https      11229\n",
            "============================================================\n"
          ],
          "name": "stdout"
        }
      ]
    },
    {
      "cell_type": "markdown",
      "metadata": {
        "id": "paT5dqUlZDM4",
        "colab_type": "text"
      },
      "source": [
        "# Karsilastirmali gorsellestirme (Ayni konu basliklarinin 11 marttan oncesi ve sonrasi )"
      ]
    },
    {
      "cell_type": "code",
      "metadata": {
        "id": "49GVXBYt4nIn",
        "colab_type": "code",
        "outputId": "a1f7817b-2b7a-4458-e76f-d480e5011137",
        "colab": {
          "base_uri": "https://localhost:8080/",
          "height": 332
        }
      },
      "source": [
        "fig, (ax1, ax2) =  plt.subplots(1,2, sharex=False, sharey= True, figsize=(24,5)) \n",
        "rslt3.plot.bar(rot=0, ax =ax1 , title = \"Dezenformasyon_Once\" )\n",
        "rslt.plot.bar(rot=0, ax =ax2 , title = \"Dezenformasyon_Sonra\" )\n",
        "plt.savefig('Disinfo_comparison.png',dpi=300)"
      ],
      "execution_count": 0,
      "outputs": [
        {
          "output_type": "display_data",
          "data": {
            "image/png": "[encoded data removed]",
            "text/plain": [
              "<Figure size 1728x360 with 2 Axes>"
            ]
          },
          "metadata": {
            "tags": [],
            "needs_background": "light"
          }
        }
      ]
    }
  ]
}
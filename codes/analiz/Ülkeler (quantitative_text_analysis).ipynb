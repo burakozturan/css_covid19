{
  "nbformat": 4,
  "nbformat_minor": 0,
  "metadata": {
    "colab": {
      "name": "quantitative_text_analysis.ipynb",
      "provenance": [],
      "collapsed_sections": []
    },
    "kernelspec": {
      "name": "python3",
      "display_name": "Python 3"
    }
  },
  "cells": [
    {
      "cell_type": "markdown",
      "metadata": {
        "id": "ijGVh7j5XdR4",
        "colab_type": "text"
      },
      "source": [
        "# Google Colab Set Up and Installation of Modules  (Kurulum ve Gerekli Modullerin Yuklenmesi)"
      ]
    },
    {
      "cell_type": "code",
      "metadata": {
        "id": "i-0r_-5dwN4Z",
        "colab_type": "code",
        "outputId": "611ddfd1-9376-4206-c947-a2dcd7d68c57",
        "colab": {
          "base_uri": "https://localhost:8080/",
          "height": 54
        }
      },
      "source": [
        "from google.colab import drive\n",
        "drive.mount('/content/gdrive')\n",
        "import sys\n",
        "import os"
      ],
      "execution_count": 0,
      "outputs": [
        {
          "output_type": "stream",
          "text": [
            "Drive already mounted at /content/gdrive; to attempt to forcibly remount, call drive.mount(\"/content/gdrive\", force_remount=True).\n"
          ],
          "name": "stdout"
        }
      ]
    },
    {
      "cell_type": "code",
      "metadata": {
        "id": "rn3Ruo74weD9",
        "colab_type": "code",
        "outputId": "6879a7e4-caa6-4d40-acf9-99cc636361c8",
        "colab": {
          "base_uri": "https://localhost:8080/",
          "height": 85
        }
      },
      "source": [
        "import pandas as pd\n",
        "import matplotlib.pyplot as plt\n",
        "import matplotlib\n",
        "import matplotlib.pyplot as plt\n",
        "import numpy as np\n",
        "import nltk\n",
        "import os\n",
        "from nltk import sent_tokenize, word_tokenize\n",
        "from nltk.stem.snowball import SnowballStemmer\n",
        "from nltk.stem.wordnet import WordNetLemmatizer\n",
        "import nltk\n",
        "\n",
        "nltk.download('stopwords')\n",
        "import matplotlib.pyplot as plt\n",
        "import pandas as pd\n",
        "\n",
        "nltk.download('punkt')\n",
        "import string\n",
        "from nltk.corpus import stopwords\n",
        "import pandas as pd\n",
        "import numpy as np\n",
        "import re   "
      ],
      "execution_count": 0,
      "outputs": [
        {
          "output_type": "stream",
          "text": [
            "[nltk_data] Downloading package stopwords to /root/nltk_data...\n",
            "[nltk_data]   Package stopwords is already up-to-date!\n",
            "[nltk_data] Downloading package punkt to /root/nltk_data...\n",
            "[nltk_data]   Package punkt is already up-to-date!\n"
          ],
          "name": "stdout"
        }
      ]
    },
    {
      "cell_type": "markdown",
      "metadata": {
        "id": "acY_4ndZXoql",
        "colab_type": "text"
      },
      "source": [
        "# Importing Tweets for the theme under analysis (Incelenecek konu basligindaki tweetlerin yuklenmesi) "
      ]
    },
    {
      "cell_type": "markdown",
      "metadata": {
        "id": "zpq5tClcXy-9",
        "colab_type": "text"
      },
      "source": [
        "This notebook analyzes the international relations (countries) themes, for the other themes you can look at their notebook files. (Burada ornek olarak ulkeler konu basligi gosteriliyor gosteriliyor.)"
      ]
    },
    {
      "cell_type": "code",
      "metadata": {
        "id": "_CO2N95Dxs7-",
        "colab_type": "code",
        "colab": {}
      },
      "source": [
        "os.chdir(\"/content/gdrive/My Drive/css/ulkeler_after\")\n",
        "df3 = pd.read_csv(\"/content/gdrive/My Drive/css/ulkeler_after/ulkeler_after_nodublication.csv\", engine = 'python')\n",
        "df3['tweet'] = df3['tweet'].astype(str)"
      ],
      "execution_count": 0,
      "outputs": []
    },
    {
      "cell_type": "markdown",
      "metadata": {
        "id": "6wyEtM7dX7qM",
        "colab_type": "text"
      },
      "source": [
        "Data pre-processing (on temizlemesi):\n",
        "\n",
        "1.   kucuk harfe cevirme\n",
        "2.   turkce karakter uyumlarini duzeltme\n",
        "3.   ozel karakterleri, noktalamalari temizleme\n"
      ]
    },
    {
      "cell_type": "code",
      "metadata": {
        "id": "krEM51FQ20TP",
        "colab_type": "code",
        "colab": {}
      },
      "source": [
        "df3.tweet = df3.tweet.apply(lambda x: re.sub(r\"İ\", \"i\",x)) #harika calisiyor\n",
        "df3.tweet = df3.tweet.apply(lambda x: x.lower())\n",
        "df3.loc[:,\"tweet\"] = df3.tweet.apply(lambda x : \" \".join(re.findall('[\\w]+',x)))"
      ],
      "execution_count": 0,
      "outputs": []
    },
    {
      "cell_type": "code",
      "metadata": {
        "id": "DITkNXgMxyLp",
        "colab_type": "code",
        "outputId": "5c1a01f6-9ade-49a7-d15a-b145ee51d725",
        "colab": {
          "base_uri": "https://localhost:8080/",
          "height": 244
        }
      },
      "source": [
        "df3.head(3)"
      ],
      "execution_count": 0,
      "outputs": [
        {
          "output_type": "execute_result",
          "data": {
            "text/html": [
              "<div>\n",
              "<style scoped>\n",
              "    .dataframe tbody tr th:only-of-type {\n",
              "        vertical-align: middle;\n",
              "    }\n",
              "\n",
              "    .dataframe tbody tr th {\n",
              "        vertical-align: top;\n",
              "    }\n",
              "\n",
              "    .dataframe thead th {\n",
              "        text-align: right;\n",
              "    }\n",
              "</style>\n",
              "<table border=\"1\" class=\"dataframe\">\n",
              "  <thead>\n",
              "    <tr style=\"text-align: right;\">\n",
              "      <th></th>\n",
              "      <th>id</th>\n",
              "      <th>date</th>\n",
              "      <th>time</th>\n",
              "      <th>user_id</th>\n",
              "      <th>username</th>\n",
              "      <th>tweet</th>\n",
              "      <th>hashtags</th>\n",
              "      <th>retweet</th>\n",
              "      <th>user_rt</th>\n",
              "      <th>mentions</th>\n",
              "    </tr>\n",
              "  </thead>\n",
              "  <tbody>\n",
              "    <tr>\n",
              "      <th>0</th>\n",
              "      <td>1247267826773241856</td>\n",
              "      <td>2020-04-06</td>\n",
              "      <td>23:59:57</td>\n",
              "      <td>2.860136e+09</td>\n",
              "      <td>elifaykrt</td>\n",
              "      <td>ab genel mahkemesi türkiye de de dava konusu o...</td>\n",
              "      <td>[]</td>\n",
              "      <td>False</td>\n",
              "      <td>NaN</td>\n",
              "      <td>[]</td>\n",
              "    </tr>\n",
              "    <tr>\n",
              "      <th>1</th>\n",
              "      <td>1247267742790680576</td>\n",
              "      <td>2020-04-06</td>\n",
              "      <td>23:59:37</td>\n",
              "      <td>4.060571e+09</td>\n",
              "      <td>sau_diam</td>\n",
              "      <td>avrupa birliği ülkelerinde covid 19 tablosunda...</td>\n",
              "      <td>['#ab', '#eu', '#covid19', '#diam2020']</td>\n",
              "      <td>False</td>\n",
              "      <td>NaN</td>\n",
              "      <td>[]</td>\n",
              "    </tr>\n",
              "    <tr>\n",
              "      <th>2</th>\n",
              "      <td>1247267699375386625</td>\n",
              "      <td>2020-04-06</td>\n",
              "      <td>23:59:27</td>\n",
              "      <td>1.487377e+09</td>\n",
              "      <td>gokceab</td>\n",
              "      <td>parmağa yara bandı sardıktan az sonra o el mut...</td>\n",
              "      <td>[]</td>\n",
              "      <td>False</td>\n",
              "      <td>NaN</td>\n",
              "      <td>[]</td>\n",
              "    </tr>\n",
              "  </tbody>\n",
              "</table>\n",
              "</div>"
            ],
            "text/plain": [
              "                    id        date      time  ...  retweet user_rt mentions\n",
              "0  1247267826773241856  2020-04-06  23:59:57  ...    False     NaN       []\n",
              "1  1247267742790680576  2020-04-06  23:59:37  ...    False     NaN       []\n",
              "2  1247267699375386625  2020-04-06  23:59:27  ...    False     NaN       []\n",
              "\n",
              "[3 rows x 10 columns]"
            ]
          },
          "metadata": {
            "tags": []
          },
          "execution_count": 19
        }
      ]
    },
    {
      "cell_type": "markdown",
      "metadata": {
        "id": "hhMXbK5KYyzz",
        "colab_type": "text"
      },
      "source": [
        "# I implemend NLP pipelines. Namely: Tokenization, stopwords removal. Later on I did frequency analysis of the words before and after the covid period.\n",
        "\n",
        "(Tokenize islemi, stop wordlerin atilmasi ve kelime frequencylerini (kullanim sayilarini) ileride gelecek gorsellestirme icin kaydetme)"
      ]
    },
    {
      "cell_type": "code",
      "metadata": {
        "id": "19P5PmKk3Lhb",
        "colab_type": "code",
        "outputId": "f5593051-1760-45fa-f22e-34401ead70b6",
        "colab": {
          "base_uri": "https://localhost:8080/",
          "height": 255
        }
      },
      "source": [
        "top_N = 10\n",
        "\n",
        "\n",
        "txt = df3.tweet.str.lower().str.replace(r'\\|', ' ').str.cat(sep=' ')\n",
        "words = nltk.tokenize.word_tokenize(txt)\n",
        "word_dist = nltk.FreqDist(words)\n",
        "\n",
        "user_defined_stop_words = ['1', 'ye', 'nin' ,'nın',  'koronavirüs', 'olsun', 'karşı' , 'covid_19', 'artık', '3', 'sayısı' , 'olarak', 'oldu', 'olan', '2' , 'nedeniyle','bile' , 'sonra' ,'sen','virüs', 'ben', 'vaka' , 'son', 'yeni', 'sayi', 'sayisi','virüsü','bir','com','twitter', 'kadar', 'dan' , 'değil' ,'pic' , 'http', 'https' , 'www' , 'status' , 'var', 'bi', 'mi','yok', 'bu' , 've', 'korona' ,'corona' ,'19' ,'kovid', 'covid'] \n",
        "\n",
        "i = nltk.corpus.stopwords.words('turkish')\n",
        "j = list(string.punctuation) + user_defined_stop_words\n",
        "stopwords = set(i).union(j)\n",
        "\n",
        "\n",
        "words_except_stop_dist = nltk.FreqDist(w for w in words if w not in stopwords) \n",
        "\n",
        "print('All frequencies, including STOPWORDS:')\n",
        "print('=' * 60)\n",
        "rslt3 = pd.DataFrame(word_dist.most_common(top_N),\n",
        "                    columns=['Word', 'Frequency'])\n",
        "print(rslt3)\n",
        "print('=' * 60)\n",
        "\n",
        "rslt3 = pd.DataFrame(words_except_stop_dist.most_common(top_N),\n",
        "                    columns=['Word', 'Frequency']).set_index('Word')"
      ],
      "execution_count": 0,
      "outputs": [
        {
          "output_type": "stream",
          "text": [
            "All frequencies, including STOPWORDS:\n",
            "============================================================\n",
            "      Word  Frequency\n",
            "0  almanya     121969\n",
            "1       ve     107393\n",
            "2      com     102602\n",
            "3       da     102143\n",
            "4      bir      83882\n",
            "5  twitter      76648\n",
            "6       bu      73845\n",
            "7    rusya      68164\n",
            "8       de      62263\n",
            "9    https      59990\n",
            "============================================================\n"
          ],
          "name": "stdout"
        }
      ]
    },
    {
      "cell_type": "markdown",
      "metadata": {
        "id": "kzrbLrR-Y3E0",
        "colab_type": "text"
      },
      "source": [
        "# Importing tweets which are before the Turkish first case.  (TR deki ilk vakan onceki tweetlerin incelenmek icin yuklenmesi)"
      ]
    },
    {
      "cell_type": "code",
      "metadata": {
        "id": "_TDc9dTG3aIu",
        "colab_type": "code",
        "colab": {}
      },
      "source": [
        "df2 = pd.read_csv(\"/content/gdrive/My Drive/css/ulkeler_before/ulkeler_before_nodublication.csv\", engine = 'python')\n",
        "\n",
        "df2['tweet'] = df2['tweet'].astype(str)"
      ],
      "execution_count": 0,
      "outputs": []
    },
    {
      "cell_type": "code",
      "metadata": {
        "id": "-aQTVleRxzpU",
        "colab_type": "code",
        "colab": {}
      },
      "source": [
        "df2['tweet'] = df2['tweet'].astype(str)\n",
        "df2.tweet = df2.tweet.apply(lambda x: re.sub(r\"İ\", \"i\",x)) #harika calisiyor\n",
        "df2.tweet = df2.tweet.apply(lambda x: x.lower())\n",
        "df2.loc[:,\"tweet\"] = df2.tweet.apply(lambda x : \" \".join(re.findall('[\\w]+',x)))"
      ],
      "execution_count": 0,
      "outputs": []
    },
    {
      "cell_type": "code",
      "metadata": {
        "id": "t0ZcBCX64MfZ",
        "colab_type": "code",
        "outputId": "be0b889e-f4e6-4bfa-c7b3-c5080de094b0",
        "colab": {
          "base_uri": "https://localhost:8080/",
          "height": 323
        }
      },
      "source": [
        "df2.head()"
      ],
      "execution_count": 0,
      "outputs": [
        {
          "output_type": "execute_result",
          "data": {
            "text/html": [
              "<div>\n",
              "<style scoped>\n",
              "    .dataframe tbody tr th:only-of-type {\n",
              "        vertical-align: middle;\n",
              "    }\n",
              "\n",
              "    .dataframe tbody tr th {\n",
              "        vertical-align: top;\n",
              "    }\n",
              "\n",
              "    .dataframe thead th {\n",
              "        text-align: right;\n",
              "    }\n",
              "</style>\n",
              "<table border=\"1\" class=\"dataframe\">\n",
              "  <thead>\n",
              "    <tr style=\"text-align: right;\">\n",
              "      <th></th>\n",
              "      <th>id</th>\n",
              "      <th>date</th>\n",
              "      <th>time</th>\n",
              "      <th>user_id</th>\n",
              "      <th>username</th>\n",
              "      <th>tweet</th>\n",
              "      <th>hashtags</th>\n",
              "      <th>retweet</th>\n",
              "      <th>user_rt</th>\n",
              "      <th>mentions</th>\n",
              "    </tr>\n",
              "  </thead>\n",
              "  <tbody>\n",
              "    <tr>\n",
              "      <th>0</th>\n",
              "      <td>1237120935884398592</td>\n",
              "      <td>2020-03-09</td>\n",
              "      <td>23:59:50</td>\n",
              "      <td>2.490543e+09</td>\n",
              "      <td>netinternethabe</td>\n",
              "      <td>dsö koronavirüs pandemi tehdidi gerçek oldu ht...</td>\n",
              "      <td>[]</td>\n",
              "      <td>False</td>\n",
              "      <td>NaN</td>\n",
              "      <td>[]</td>\n",
              "    </tr>\n",
              "    <tr>\n",
              "      <th>1</th>\n",
              "      <td>1237120358597242884</td>\n",
              "      <td>2020-03-09</td>\n",
              "      <td>23:57:32</td>\n",
              "      <td>4.893352e+08</td>\n",
              "      <td>prbs007</td>\n",
              "      <td>dsö ülkelerin gerçek rakamları açıklamayıp giz...</td>\n",
              "      <td>[]</td>\n",
              "      <td>False</td>\n",
              "      <td>NaN</td>\n",
              "      <td>['kemalozfirat']</td>\n",
              "    </tr>\n",
              "    <tr>\n",
              "      <th>2</th>\n",
              "      <td>1237119821164183554</td>\n",
              "      <td>2020-03-09</td>\n",
              "      <td>23:55:24</td>\n",
              "      <td>7.424910e+17</td>\n",
              "      <td>izmitli_serkan</td>\n",
              "      <td>dsö den açıklama bu savaşı kazanabiliriz https...</td>\n",
              "      <td>[]</td>\n",
              "      <td>False</td>\n",
              "      <td>NaN</td>\n",
              "      <td>[]</td>\n",
              "    </tr>\n",
              "    <tr>\n",
              "      <th>3</th>\n",
              "      <td>1237119277964148737</td>\n",
              "      <td>2020-03-09</td>\n",
              "      <td>23:53:15</td>\n",
              "      <td>8.186996e+08</td>\n",
              "      <td>eskiacik_1903</td>\n",
              "      <td>dsö sağolsun hocam çin in verilerin kabul etti...</td>\n",
              "      <td>[]</td>\n",
              "      <td>False</td>\n",
              "      <td>NaN</td>\n",
              "      <td>['timbooth75']</td>\n",
              "    </tr>\n",
              "    <tr>\n",
              "      <th>4</th>\n",
              "      <td>1237118560977203200</td>\n",
              "      <td>2020-03-09</td>\n",
              "      <td>23:50:24</td>\n",
              "      <td>1.416370e+09</td>\n",
              "      <td>meraldemirel4</td>\n",
              "      <td>dsö iran a gidip koronayla mücadelede iran ın ...</td>\n",
              "      <td>[]</td>\n",
              "      <td>False</td>\n",
              "      <td>NaN</td>\n",
              "      <td>['xc0ms', 'traderat12']</td>\n",
              "    </tr>\n",
              "  </tbody>\n",
              "</table>\n",
              "</div>"
            ],
            "text/plain": [
              "                    id        date  ... user_rt                 mentions\n",
              "0  1237120935884398592  2020-03-09  ...     NaN                       []\n",
              "1  1237120358597242884  2020-03-09  ...     NaN         ['kemalozfirat']\n",
              "2  1237119821164183554  2020-03-09  ...     NaN                       []\n",
              "3  1237119277964148737  2020-03-09  ...     NaN           ['timbooth75']\n",
              "4  1237118560977203200  2020-03-09  ...     NaN  ['xc0ms', 'traderat12']\n",
              "\n",
              "[5 rows x 10 columns]"
            ]
          },
          "metadata": {
            "tags": []
          },
          "execution_count": 30
        }
      ]
    },
    {
      "cell_type": "code",
      "metadata": {
        "id": "yqA-y-AW4awX",
        "colab_type": "code",
        "outputId": "52aad8a2-0ea4-4e40-c3ab-72e5ff0f1427",
        "colab": {
          "base_uri": "https://localhost:8080/",
          "height": 537
        }
      },
      "source": [
        "top_N = 10\n",
        "\n",
        "\n",
        "txt = df2.tweet.str.lower().str.replace(r'\\|', ' ').str.cat(sep=' ')\n",
        "words = nltk.tokenize.word_tokenize(txt)\n",
        "word_dist = nltk.FreqDist(words)\n",
        "\n",
        "user_defined_stop_words = ['1', 'ye', 'nin' ,'nın',  'koronavirüs', 'olsun', 'karşı' , 'covid_19', 'artık', '3', 'sayısı' , 'olarak', 'oldu', 'olan', '2' , 'nedeniyle','bile' , 'sonra' ,'sen','virüs', 'ben', 'vaka' , 'son', 'yeni', 'sayi', 'sayisi','virüsü','bir','com','twitter', 'kadar', 'dan' , 'değil' ,'pic' , 'http', 'https' , 'www' , 'status' , 'var', 'bi', 'mi','yok', 'bu' , 've', 'korona' ,'corona' ,'19' ,'kovid', 'covid'] \n",
        "\n",
        "i = nltk.corpus.stopwords.words('turkish')\n",
        "j = list(string.punctuation) + user_defined_stop_words\n",
        "stopwords = set(i).union(j)\n",
        "\n",
        "\n",
        "words_except_stop_dist = nltk.FreqDist(w for w in words if w not in stopwords) \n",
        "\n",
        "print('All frequencies, including STOPWORDS:')\n",
        "print('=' * 60)\n",
        "rslt = pd.DataFrame(word_dist.most_common(top_N),\n",
        "                    columns=['Word', 'Frequency'])\n",
        "print(rslt)\n",
        "print('=' * 60)\n",
        "\n",
        "rslt = pd.DataFrame(words_except_stop_dist.most_common(top_N),\n",
        "                    columns=['Word', 'Frequency']).set_index('Word')\n",
        "\n",
        "matplotlib.style.use('ggplot')\n",
        "plt.figure(figsize=(30,30))\n",
        "rslt.plot.bar(rot=0)\n",
        "plt.savefig('ulkeler_before.png')"
      ],
      "execution_count": 0,
      "outputs": [
        {
          "output_type": "stream",
          "text": [
            "All frequencies, including STOPWORDS:\n",
            "============================================================\n",
            "      Word  Frequency\n",
            "0  türkiye     257249\n",
            "1    rusya     241633\n",
            "2      com     185038\n",
            "3       ve     182863\n",
            "4      bir     150601\n",
            "5  twitter     135921\n",
            "6       de     125635\n",
            "7       bu     122169\n",
            "8       da     105363\n",
            "9    https      95717\n",
            "============================================================\n"
          ],
          "name": "stdout"
        },
        {
          "output_type": "display_data",
          "data": {
            "text/plain": [
              "<Figure size 2160x2160 with 0 Axes>"
            ]
          },
          "metadata": {
            "tags": []
          }
        },
        {
          "output_type": "display_data",
          "data": {
            "image/png": "[encoded data removed]",
            "text/plain": [
              "<Figure size 432x288 with 1 Axes>"
            ]
          },
          "metadata": {
            "tags": []
          }
        }
      ]
    },
    {
      "cell_type": "markdown",
      "metadata": {
        "id": "paT5dqUlZDM4",
        "colab_type": "text"
      },
      "source": [
        "# Comparative visualization (Karsilastirmali gorsellestirme (Ayni konu basliklarinin 11 marttan oncesi ve sonrasi )"
      ]
    },
    {
      "cell_type": "code",
      "metadata": {
        "id": "49GVXBYt4nIn",
        "colab_type": "code",
        "outputId": "aba828f9-207a-4d1e-eccb-2c6e9b3d6fd6",
        "colab": {
          "base_uri": "https://localhost:8080/",
          "height": 267
        }
      },
      "source": [
        "fig, (ax1, ax2) =  plt.subplots(1,2, sharex=False, sharey= True, figsize=(24,5)) \n",
        "rslt3.plot.bar(rot=0, ax =ax1 , title = \"Ulkeler_After\" )\n",
        "rslt.plot.bar(rot=0, ax =ax2 , title = \"Ulkeler_Before\" )\n",
        "plt.savefig('ulkeler_comparison.png',dpi=300)"
      ],
      "execution_count": 0,
      "outputs": [
        {
          "output_type": "display_data",
          "data": {
            "image/png": "[encoded data removed]",
            "text/plain": [
              "<Figure size 1728x360 with 2 Axes>"
            ]
          },
          "metadata": {
            "tags": []
          }
        }
      ]
    }
  ]
}
{
  "nbformat": 4,
  "nbformat_minor": 0,
  "metadata": {
    "colab": {
      "name": "data_birlestirme",
      "provenance": []
    },
    "kernelspec": {
      "name": "python3",
      "display_name": "Python 3"
    },
    "accelerator": "GPU"
  },
  "cells": [
    {
      "cell_type": "markdown",
      "metadata": {
        "id": "EFNZiRK3fbPM",
        "colab_type": "text"
      },
      "source": [
        ""
      ]
    },
    {
      "cell_type": "markdown",
      "metadata": {
        "id": "aq-pQ43Gfd_W",
        "colab_type": "text"
      },
      "source": [
        "# Google Colab Set Up (Google Colab Kurulumu)\n",
        "\n",
        "\n"
      ]
    },
    {
      "cell_type": "markdown",
      "metadata": {
        "id": "zrjrh9QUfxdo",
        "colab_type": "text"
      },
      "source": [
        ""
      ]
    },
    {
      "cell_type": "code",
      "metadata": {
        "id": "ngIhMrXEcHPp",
        "colab_type": "code",
        "outputId": "17da7b40-0307-490a-fe3f-d01ad4b4cad1",
        "colab": {
          "base_uri": "https://localhost:8080/",
          "height": 122
        }
      },
      "source": [
        "from google.colab import drive\n",
        "drive.mount('/content/gdrive')\n",
        "import sys\n",
        "import os\n",
        "os.chdir(\"/content/gdrive/My Drive/css\")"
      ],
      "execution_count": 0,
      "outputs": [
        {
          "output_type": "stream",
          "text": [
            "Go to this URL in a browser: https://accounts.google.com/o/oauth2/auth?client_id=947318989803-6bn6qk8qdgf4n4g3pfee6491hc0brc4i.apps.googleusercontent.com&redirect_uri=urn%3aietf%3awg%3aoauth%3a2.0%3aoob&response_type=code&scope=email%20https%3a%2f%2fwww.googleapis.com%2fauth%2fdocs.test%20https%3a%2f%2fwww.googleapis.com%2fauth%2fdrive%20https%3a%2f%2fwww.googleapis.com%2fauth%2fdrive.photos.readonly%20https%3a%2f%2fwww.googleapis.com%2fauth%2fpeopleapi.readonly\n",
            "\n",
            "Enter your authorization code:\n",
            "··········\n",
            "Mounted at /content/gdrive\n"
          ],
          "name": "stdout"
        }
      ]
    },
    {
      "cell_type": "markdown",
      "metadata": {
        "id": "e9acV-CLf1ul",
        "colab_type": "text"
      },
      "source": [
        "Installation of Modules (Gerekli Modullerin Yuklenmesi)\n"
      ]
    },
    {
      "cell_type": "code",
      "metadata": {
        "id": "PHvdp-KfcWED",
        "colab_type": "code",
        "colab": {}
      },
      "source": [
        "import pandas as pd\n",
        "\n",
        "import numpy as np\n",
        "import nltk\n",
        "import os\n",
        "from nltk import sent_tokenize, word_tokenize\n",
        "from nltk.stem.snowball import SnowballStemmer\n",
        "from nltk.stem.wordnet import WordNetLemmatizer\n",
        "\n",
        "from nltk.corpus import stopwords\n",
        "import pandas as pd\n",
        "import numpy as np\n",
        "import re   "
      ],
      "execution_count": 0,
      "outputs": []
    },
    {
      "cell_type": "code",
      "metadata": {
        "id": "wj2WXlXVjoOy",
        "colab_type": "code",
        "colab": {}
      },
      "source": [
        "os.chdir('/content/gdrive/My Drive/css/covid_all/before')"
      ],
      "execution_count": 0,
      "outputs": []
    },
    {
      "cell_type": "code",
      "metadata": {
        "id": "289yBNMYcy5c",
        "colab_type": "code",
        "colab": {}
      },
      "source": [
        "from os import listdir\n",
        "\n",
        "filepaths = [f for f in listdir('/content/gdrive/My Drive/css/covid_all/before') if f.endswith('.csv')]\n",
        "df = pd.concat(map(pd.read_csv, filepaths))"
      ],
      "execution_count": 0,
      "outputs": []
    },
    {
      "cell_type": "code",
      "metadata": {
        "id": "0A7MEuOAc5Pu",
        "colab_type": "code",
        "outputId": "cbe42205-9c3a-40b1-9d8a-3330f06e16b0",
        "colab": {
          "base_uri": "https://localhost:8080/",
          "height": 34
        }
      },
      "source": [
        "df.shape"
      ],
      "execution_count": 0,
      "outputs": [
        {
          "output_type": "execute_result",
          "data": {
            "text/plain": [
              "(164135, 10)"
            ]
          },
          "metadata": {
            "tags": []
          },
          "execution_count": 5
        }
      ]
    },
    {
      "cell_type": "markdown",
      "metadata": {
        "id": "7zG9vuRuUuf6",
        "colab_type": "text"
      },
      "source": [
        "##  Elimination of Repeated Tweets (Tekrarlanan Tweetleri Bu kodla Eliyoruz)"
      ]
    },
    {
      "cell_type": "code",
      "metadata": {
        "id": "iMzdcwBRc71B",
        "colab_type": "code",
        "outputId": "d2fdf9cb-f61b-49c5-bd4f-87de88749317",
        "colab": {
          "base_uri": "https://localhost:8080/",
          "height": 34
        }
      },
      "source": [
        "df_tek =  df.drop_duplicates(subset='id', keep='first')\n",
        "df_tek.shape"
      ],
      "execution_count": 0,
      "outputs": [
        {
          "output_type": "execute_result",
          "data": {
            "text/plain": [
              "(161109, 10)"
            ]
          },
          "metadata": {
            "tags": []
          },
          "execution_count": 6
        }
      ]
    },
    {
      "cell_type": "code",
      "metadata": {
        "id": "rNUCM3YUdAsY",
        "colab_type": "code",
        "colab": {}
      },
      "source": [
        "df_tek.to_csv (r'/content/gdrive/My Drive/css/covid_all/before/covid_all_nodublication.csv', index = False, header=True)\n",
        "df_tek['id'].to_csv(r'/content/gdrive/My Drive/css/covid_all/before/covid_before_id.txt', header=None, index=None, sep=' ', mode='a')"
      ],
      "execution_count": 0,
      "outputs": []
    },
    {
      "cell_type": "code",
      "metadata": {
        "id": "8xnzYVUudDcg",
        "colab_type": "code",
        "colab": {}
      },
      "source": [
        ""
      ],
      "execution_count": 0,
      "outputs": []
    },
    {
      "cell_type": "code",
      "metadata": {
        "id": "QYbwZUxGdHR9",
        "colab_type": "code",
        "colab": {}
      },
      "source": [
        "os.chdir('/content/gdrive/My Drive/css/covid_all/after')"
      ],
      "execution_count": 0,
      "outputs": []
    },
    {
      "cell_type": "code",
      "metadata": {
        "id": "KCFqJ5mXfvae",
        "colab_type": "code",
        "colab": {}
      },
      "source": [
        "from os import listdir\n",
        "\n",
        "filepaths = [f for f in listdir('/content/gdrive/My Drive/css/covid_all/after') if f.endswith('.csv')]\n",
        "df = pd.concat(map(pd.read_csv, filepaths))"
      ],
      "execution_count": 0,
      "outputs": []
    },
    {
      "cell_type": "code",
      "metadata": {
        "id": "6WybyyEbf1ps",
        "colab_type": "code",
        "outputId": "127d8443-2ce8-4a87-9d68-758a933ce9a1",
        "colab": {
          "base_uri": "https://localhost:8080/",
          "height": 34
        }
      },
      "source": [
        "df.shape"
      ],
      "execution_count": 0,
      "outputs": [
        {
          "output_type": "execute_result",
          "data": {
            "text/plain": [
              "(1514151, 10)"
            ]
          },
          "metadata": {
            "tags": []
          },
          "execution_count": 15
        }
      ]
    },
    {
      "cell_type": "code",
      "metadata": {
        "id": "uO9TRPZUf46w",
        "colab_type": "code",
        "outputId": "48c51863-a715-423a-ff71-15827d1e6f44",
        "colab": {
          "base_uri": "https://localhost:8080/",
          "height": 34
        }
      },
      "source": [
        "df_tek =  df.drop_duplicates(subset='id', keep='first')\n",
        "df_tek.shape"
      ],
      "execution_count": 0,
      "outputs": [
        {
          "output_type": "execute_result",
          "data": {
            "text/plain": [
              "(1427569, 10)"
            ]
          },
          "metadata": {
            "tags": []
          },
          "execution_count": 16
        }
      ]
    },
    {
      "cell_type": "code",
      "metadata": {
        "id": "z0Jg9ugRU29h",
        "colab_type": "code",
        "colab": {}
      },
      "source": [
        "df.head()"
      ],
      "execution_count": 0,
      "outputs": []
    },
    {
      "cell_type": "markdown",
      "metadata": {
        "id": "PfIRXS9wVEgg",
        "colab_type": "text"
      },
      "source": [
        "\n",
        "The tweets that are collected with individual keywords are merged under the theme they belong to. Then I sorted the ids following Twitter's TOS\n",
        "Keywordler den cekilen tweetler her bir konu basligi altinda birlestirilip csv file olarak kaydedildi. Ardindan idler kaydedildi"
      ]
    },
    {
      "cell_type": "code",
      "metadata": {
        "id": "46806Ijjf68L",
        "colab_type": "code",
        "colab": {}
      },
      "source": [
        "df_tek.to_csv (r'/content/gdrive/My Drive/css/covid_all/after/covid_all_after_nodublication.csv', index = False, header=True)"
      ],
      "execution_count": 0,
      "outputs": []
    },
    {
      "cell_type": "code",
      "metadata": {
        "id": "d-vpvPPCgBS4",
        "colab_type": "code",
        "colab": {}
      },
      "source": [
        "df_tek['id'].to_csv(r'/content/gdrive/My Drive/css/covid_all/after/covid_after_id.txt', header=None, index=None, sep=' ', mode='a')"
      ],
      "execution_count": 0,
      "outputs": []
    },
    {
      "cell_type": "markdown",
      "metadata": {
        "id": "eD7CkBkiVWfe",
        "colab_type": "text"
      },
      "source": [
        "# Having seen that the code is functioning for the one theme, via using loops I created csv files of themes and extracted the ids\n",
        "\n",
        "# (Kodun tek bir konu basligi altinda calistigi goruldukten sonra for loop kullanilarak tum konu basliklari icin csv file olarak birlestirme ve id'ler cekildi)"
      ]
    },
    {
      "cell_type": "code",
      "metadata": {
        "id": "za65xLBeeVJR",
        "colab_type": "code",
        "colab": {}
      },
      "source": [
        "dosyalar = ['dezenformasyon', 'ekonomi' ,'din' 'saglik', 'ulkeler' , 'politika', 'covid']"
      ],
      "execution_count": 0,
      "outputs": []
    },
    {
      "cell_type": "code",
      "metadata": {
        "id": "_NrXK8hmegWX",
        "colab_type": "code",
        "colab": {}
      },
      "source": [
        "for letter in range(len(dosyalar)):\n",
        "  path = '/content/gdrive/My Drive/css/'.__add__(dosyalar[letter]).__add__(\"_after\")#.__add__(dosyalar[letter]).__add__(\"_after_nodublication\")\n",
        "  os.chdir(path)\n",
        "  filepaths = [f for f in listdir(path) if f.endswith('.csv')]\n",
        "  df = pd.concat(map(pd.read_csv, filepaths))\n",
        "  df_tek =  df.drop_duplicates(subset='id', keep='first')\n",
        "  df_tek.to_csv (r'/content/gdrive/My Drive/css/'.__add__(dosyalar[letter]).__add__(\"_after/\").__add__(dosyalar[letter]).__add__(\"_after_nodublication.csv\"), index = False, header=True)\n",
        "  df_tek['id'].to_csv(r'/content/gdrive/My Drive/css/'.__add__(dosyalar[letter]).__add__(\"_after/\").__add__(dosyalar[letter]).__add__(\"_after_id.txt\"), header=None, index=None, sep=' ', mode='a')"
      ],
      "execution_count": 0,
      "outputs": []
    }
  ]
}
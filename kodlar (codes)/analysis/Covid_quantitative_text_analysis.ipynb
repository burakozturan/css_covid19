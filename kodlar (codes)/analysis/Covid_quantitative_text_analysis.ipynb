{
  "nbformat": 4,
  "nbformat_minor": 0,
  "metadata": {
    "colab": {
      "name": "Covid-quantitative_text_analysis.ipynb",
      "provenance": []
    },
    "kernelspec": {
      "name": "python3",
      "display_name": "Python 3"
    }
  },
  "cells": [
    {
      "cell_type": "code",
      "metadata": {
        "id": "i-0r_-5dwN4Z",
        "colab_type": "code",
        "outputId": "40a2411f-c98f-482f-bdc5-79b7318e8feb",
        "colab": {
          "base_uri": "https://localhost:8080/",
          "height": 122
        }
      },
      "source": [
        "from google.colab import drive\n",
        "drive.mount('/content/gdrive')\n",
        "import sys\n",
        "import os"
      ],
      "execution_count": 0,
      "outputs": [
        {
          "output_type": "stream",
          "text": [
            "Go to this URL in a browser: https://accounts.google.com/o/oauth2/auth?client_id=947318989803-6bn6qk8qdgf4n4g3pfee6491hc0brc4i.apps.googleusercontent.com&redirect_uri=urn%3aietf%3awg%3aoauth%3a2.0%3aoob&response_type=code&scope=email%20https%3a%2f%2fwww.googleapis.com%2fauth%2fdocs.test%20https%3a%2f%2fwww.googleapis.com%2fauth%2fdrive%20https%3a%2f%2fwww.googleapis.com%2fauth%2fdrive.photos.readonly%20https%3a%2f%2fwww.googleapis.com%2fauth%2fpeopleapi.readonly\n",
            "\n",
            "Enter your authorization code:\n",
            "··········\n",
            "Mounted at /content/gdrive\n"
          ],
          "name": "stdout"
        }
      ]
    },
    {
      "cell_type": "code",
      "metadata": {
        "id": "rn3Ruo74weD9",
        "colab_type": "code",
        "outputId": "50f3f084-5e56-452c-8b00-2e27b0dc1488",
        "colab": {
          "base_uri": "https://localhost:8080/",
          "height": 85
        }
      },
      "source": [
        "import pandas as pd\n",
        "import matplotlib.pyplot as plt\n",
        "import matplotlib\n",
        "import matplotlib.pyplot as plt\n",
        "import numpy as np\n",
        "import nltk\n",
        "import os\n",
        "from nltk import sent_tokenize, word_tokenize\n",
        "from nltk.stem.snowball import SnowballStemmer\n",
        "from nltk.stem.wordnet import WordNetLemmatizer\n",
        "import nltk\n",
        "\n",
        "nltk.download('stopwords')\n",
        "import matplotlib.pyplot as plt\n",
        "import pandas as pd\n",
        "\n",
        "nltk.download('punkt')\n",
        "import string\n",
        "from nltk.corpus import stopwords\n",
        "import pandas as pd\n",
        "import numpy as np\n",
        "import re   "
      ],
      "execution_count": 0,
      "outputs": [
        {
          "output_type": "stream",
          "text": [
            "[nltk_data] Downloading package stopwords to /root/nltk_data...\n",
            "[nltk_data]   Unzipping corpora/stopwords.zip.\n",
            "[nltk_data] Downloading package punkt to /root/nltk_data...\n",
            "[nltk_data]   Unzipping tokenizers/punkt.zip.\n"
          ],
          "name": "stdout"
        }
      ]
    },
    {
      "cell_type": "code",
      "metadata": {
        "id": "_CO2N95Dxs7-",
        "colab_type": "code",
        "colab": {}
      },
      "source": [
        "os.chdir(\"/content/gdrive/My Drive/css/covid_all/after\")\n",
        "df3 = pd.read_csv(\"/content/gdrive/My Drive/css/covid_all/after/covid_all_after_nodublication.csv\", engine = 'python')\n",
        "df3['tweet'] = df3['tweet'].astype(str)"
      ],
      "execution_count": 0,
      "outputs": []
    },
    {
      "cell_type": "code",
      "metadata": {
        "id": "krEM51FQ20TP",
        "colab_type": "code",
        "colab": {}
      },
      "source": [
        "df3.tweet = df3.tweet.apply(lambda x: re.sub(r\"İ\", \"i\",x)) #harika calisiyor\n",
        "df3.tweet = df3.tweet.apply(lambda x: x.lower())\n",
        "df3.loc[:,\"tweet\"] = df3.tweet.apply(lambda x : \" \".join(re.findall('[\\w]+',x)))"
      ],
      "execution_count": 0,
      "outputs": []
    },
    {
      "cell_type": "code",
      "metadata": {
        "id": "DITkNXgMxyLp",
        "colab_type": "code",
        "outputId": "bb59840f-0edd-4907-db7d-c02c63b2927a",
        "colab": {
          "base_uri": "https://localhost:8080/",
          "height": 193
        }
      },
      "source": [
        "df3.head(3)"
      ],
      "execution_count": 0,
      "outputs": [
        {
          "output_type": "execute_result",
          "data": {
            "text/html": [
              "<div>\n",
              "<style scoped>\n",
              "    .dataframe tbody tr th:only-of-type {\n",
              "        vertical-align: middle;\n",
              "    }\n",
              "\n",
              "    .dataframe tbody tr th {\n",
              "        vertical-align: top;\n",
              "    }\n",
              "\n",
              "    .dataframe thead th {\n",
              "        text-align: right;\n",
              "    }\n",
              "</style>\n",
              "<table border=\"1\" class=\"dataframe\">\n",
              "  <thead>\n",
              "    <tr style=\"text-align: right;\">\n",
              "      <th></th>\n",
              "      <th>id</th>\n",
              "      <th>date</th>\n",
              "      <th>time</th>\n",
              "      <th>user_id</th>\n",
              "      <th>username</th>\n",
              "      <th>tweet</th>\n",
              "      <th>hashtags</th>\n",
              "      <th>retweet</th>\n",
              "      <th>user_rt</th>\n",
              "      <th>mentions</th>\n",
              "    </tr>\n",
              "  </thead>\n",
              "  <tbody>\n",
              "    <tr>\n",
              "      <th>0</th>\n",
              "      <td>1247313122517553152</td>\n",
              "      <td>2020-04-07</td>\n",
              "      <td>02:59:57</td>\n",
              "      <td>1.217102e+18</td>\n",
              "      <td>communlife</td>\n",
              "      <td>iyiyim aşkım ya sen corona pic twitter com wjy...</td>\n",
              "      <td>['#corona']</td>\n",
              "      <td>False</td>\n",
              "      <td>NaN</td>\n",
              "      <td>[]</td>\n",
              "    </tr>\n",
              "    <tr>\n",
              "      <th>1</th>\n",
              "      <td>1247313042485809152</td>\n",
              "      <td>2020-04-07</td>\n",
              "      <td>02:59:37</td>\n",
              "      <td>1.702799e+09</td>\n",
              "      <td>terriblefg</td>\n",
              "      <td>rastgele diyerek charim corona ve kopegim nazl...</td>\n",
              "      <td>[]</td>\n",
              "      <td>False</td>\n",
              "      <td>NaN</td>\n",
              "      <td>[]</td>\n",
              "    </tr>\n",
              "    <tr>\n",
              "      <th>2</th>\n",
              "      <td>1247313030679011330</td>\n",
              "      <td>2020-04-07</td>\n",
              "      <td>02:59:35</td>\n",
              "      <td>1.730053e+09</td>\n",
              "      <td>merithedeli</td>\n",
              "      <td>corona bitince ilk iş ankaraya gitme planları ...</td>\n",
              "      <td>[]</td>\n",
              "      <td>False</td>\n",
              "      <td>NaN</td>\n",
              "      <td>['thursdaaygirl']</td>\n",
              "    </tr>\n",
              "  </tbody>\n",
              "</table>\n",
              "</div>"
            ],
            "text/plain": [
              "                    id        date  ... user_rt           mentions\n",
              "0  1247313122517553152  2020-04-07  ...     NaN                 []\n",
              "1  1247313042485809152  2020-04-07  ...     NaN                 []\n",
              "2  1247313030679011330  2020-04-07  ...     NaN  ['thursdaaygirl']\n",
              "\n",
              "[3 rows x 10 columns]"
            ]
          },
          "metadata": {
            "tags": []
          },
          "execution_count": 6
        }
      ]
    },
    {
      "cell_type": "code",
      "metadata": {
        "id": "19P5PmKk3Lhb",
        "colab_type": "code",
        "outputId": "382b1ecc-7e6f-4ccd-c045-f8bde2e8c864",
        "colab": {
          "base_uri": "https://localhost:8080/",
          "height": 255
        }
      },
      "source": [
        "top_N = 10\n",
        "\n",
        "\n",
        "txt = df3.tweet.str.lower().str.replace(r'\\|', ' ').str.cat(sep=' ')\n",
        "words = nltk.tokenize.word_tokenize(txt)\n",
        "word_dist = nltk.FreqDist(words)\n",
        "\n",
        "user_defined_stop_words = ['1', 'ye', 'nin' ,'nın',  'koronavirüs', 'olsun', 'karşı' , 'covid_19', 'artık', '3', 'sayısı' , 'olarak', 'oldu', 'olan', '2' , 'nedeniyle','bile' , 'sonra' ,'sen','virüs', 'ben', 'vaka' , 'son', 'yeni', 'sayi', 'sayisi','virüsü','bir','com','twitter', 'kadar', 'dan' , 'değil' ,'pic' , 'http', 'https' , 'www' , 'status' , 'var', 'bi', 'mi','yok', 'bu' , 've', 'korona' ,'corona' ,'19' ,'kovid', 'covid'] \n",
        "\n",
        "i = nltk.corpus.stopwords.words('turkish')\n",
        "j = list(string.punctuation) + user_defined_stop_words\n",
        "stopwords = set(i).union(j)\n",
        "\n",
        "\n",
        "words_except_stop_dist = nltk.FreqDist(w for w in words if w not in stopwords) \n",
        "\n",
        "print('All frequencies, including STOPWORDS:')\n",
        "print('=' * 60)\n",
        "rslt3 = pd.DataFrame(word_dist.most_common(top_N),\n",
        "                    columns=['Word', 'Frequency'])\n",
        "print(rslt3)\n",
        "print('=' * 60)\n",
        "\n",
        "rslt3 = pd.DataFrame(words_except_stop_dist.most_common(top_N),\n",
        "                    columns=['Word', 'Frequency']).set_index('Word')"
      ],
      "execution_count": 0,
      "outputs": [
        {
          "output_type": "stream",
          "text": [
            "All frequencies, including STOPWORDS:\n",
            "============================================================\n",
            "      Word  Frequency\n",
            "0   corona    1005583\n",
            "1   korona     469695\n",
            "2      com     458013\n",
            "3  twitter     349408\n",
            "4      bir     269508\n",
            "5       bu     262442\n",
            "6       ve     249199\n",
            "7      pic     248726\n",
            "8    https     216313\n",
            "9       da     183365\n",
            "============================================================\n"
          ],
          "name": "stdout"
        }
      ]
    },
    {
      "cell_type": "code",
      "metadata": {
        "id": "_TDc9dTG3aIu",
        "colab_type": "code",
        "colab": {}
      },
      "source": [
        "df2 = pd.read_csv(\"/content/gdrive/My Drive/css/covid_all/before/covid_all_nodublication.csv\", engine = 'python')\n",
        "\n",
        "df2['tweet'] = df2['tweet'].astype(str)"
      ],
      "execution_count": 0,
      "outputs": []
    },
    {
      "cell_type": "code",
      "metadata": {
        "id": "-aQTVleRxzpU",
        "colab_type": "code",
        "colab": {}
      },
      "source": [
        "df2['tweet'] = df2['tweet'].astype(str)\n",
        "df2.tweet = df2.tweet.apply(lambda x: re.sub(r\"İ\", \"i\",x)) #harika calisiyor\n",
        "df2.tweet = df2.tweet.apply(lambda x: x.lower())\n",
        "df2.loc[:,\"tweet\"] = df2.tweet.apply(lambda x : \" \".join(re.findall('[\\w]+',x)))"
      ],
      "execution_count": 0,
      "outputs": []
    },
    {
      "cell_type": "code",
      "metadata": {
        "id": "t0ZcBCX64MfZ",
        "colab_type": "code",
        "outputId": "0539ac6a-c84e-4a0b-bcb1-d091a2a31740",
        "colab": {
          "base_uri": "https://localhost:8080/",
          "height": 289
        }
      },
      "source": [
        "df2.head()"
      ],
      "execution_count": 0,
      "outputs": [
        {
          "output_type": "execute_result",
          "data": {
            "text/html": [
              "<div>\n",
              "<style scoped>\n",
              "    .dataframe tbody tr th:only-of-type {\n",
              "        vertical-align: middle;\n",
              "    }\n",
              "\n",
              "    .dataframe tbody tr th {\n",
              "        vertical-align: top;\n",
              "    }\n",
              "\n",
              "    .dataframe thead th {\n",
              "        text-align: right;\n",
              "    }\n",
              "</style>\n",
              "<table border=\"1\" class=\"dataframe\">\n",
              "  <thead>\n",
              "    <tr style=\"text-align: right;\">\n",
              "      <th></th>\n",
              "      <th>id</th>\n",
              "      <th>date</th>\n",
              "      <th>time</th>\n",
              "      <th>user_id</th>\n",
              "      <th>username</th>\n",
              "      <th>tweet</th>\n",
              "      <th>hashtags</th>\n",
              "      <th>retweet</th>\n",
              "      <th>user_rt</th>\n",
              "      <th>mentions</th>\n",
              "    </tr>\n",
              "  </thead>\n",
              "  <tbody>\n",
              "    <tr>\n",
              "      <th>0</th>\n",
              "      <td>1237528353789202433</td>\n",
              "      <td>2020-03-11</td>\n",
              "      <td>02:58:46</td>\n",
              "      <td>3.054582e+08</td>\n",
              "      <td>zelihakaradal</td>\n",
              "      <td>bakanlıktan mı bekliyorsunuz bu açıklamayı ina...</td>\n",
              "      <td>[]</td>\n",
              "      <td>False</td>\n",
              "      <td>NaN</td>\n",
              "      <td>['soncahilbukucu']</td>\n",
              "    </tr>\n",
              "    <tr>\n",
              "      <th>1</th>\n",
              "      <td>1237528069620944896</td>\n",
              "      <td>2020-03-11</td>\n",
              "      <td>02:57:38</td>\n",
              "      <td>2.391747e+09</td>\n",
              "      <td>ugur_met</td>\n",
              "      <td>getafe başkanı italya ya gitmeyeceğiz demiş ba...</td>\n",
              "      <td>[]</td>\n",
              "      <td>False</td>\n",
              "      <td>NaN</td>\n",
              "      <td>[]</td>\n",
              "    </tr>\n",
              "    <tr>\n",
              "      <th>2</th>\n",
              "      <td>1237527952532705282</td>\n",
              "      <td>2020-03-11</td>\n",
              "      <td>02:57:10</td>\n",
              "      <td>1.180932e+18</td>\n",
              "      <td>tarikdoganoglu</td>\n",
              "      <td>bu dünya justinyen ve kara vebayı atlattı o es...</td>\n",
              "      <td>['#corona']</td>\n",
              "      <td>False</td>\n",
              "      <td>NaN</td>\n",
              "      <td>[]</td>\n",
              "    </tr>\n",
              "    <tr>\n",
              "      <th>3</th>\n",
              "      <td>1237527848631451650</td>\n",
              "      <td>2020-03-11</td>\n",
              "      <td>02:56:45</td>\n",
              "      <td>4.397234e+09</td>\n",
              "      <td>ayaklarinoyunu</td>\n",
              "      <td>covid 19 yüzünden millet çekinip camilere gitm...</td>\n",
              "      <td>[]</td>\n",
              "      <td>False</td>\n",
              "      <td>NaN</td>\n",
              "      <td>['can_atakli_', 'tele1comtr']</td>\n",
              "    </tr>\n",
              "    <tr>\n",
              "      <th>4</th>\n",
              "      <td>1237527701868523520</td>\n",
              "      <td>2020-03-11</td>\n",
              "      <td>02:56:10</td>\n",
              "      <td>3.425718e+09</td>\n",
              "      <td>soreszeyno</td>\n",
              "      <td>coronavirus yani covid 19 hakkında çok fazla b...</td>\n",
              "      <td>[]</td>\n",
              "      <td>False</td>\n",
              "      <td>NaN</td>\n",
              "      <td>[]</td>\n",
              "    </tr>\n",
              "  </tbody>\n",
              "</table>\n",
              "</div>"
            ],
            "text/plain": [
              "                    id        date  ... user_rt                       mentions\n",
              "0  1237528353789202433  2020-03-11  ...     NaN             ['soncahilbukucu']\n",
              "1  1237528069620944896  2020-03-11  ...     NaN                             []\n",
              "2  1237527952532705282  2020-03-11  ...     NaN                             []\n",
              "3  1237527848631451650  2020-03-11  ...     NaN  ['can_atakli_', 'tele1comtr']\n",
              "4  1237527701868523520  2020-03-11  ...     NaN                             []\n",
              "\n",
              "[5 rows x 10 columns]"
            ]
          },
          "metadata": {
            "tags": []
          },
          "execution_count": 11
        }
      ]
    },
    {
      "cell_type": "code",
      "metadata": {
        "id": "yqA-y-AW4awX",
        "colab_type": "code",
        "outputId": "aa308c3e-f65a-43b3-bef5-3591e540d94e",
        "colab": {
          "base_uri": "https://localhost:8080/",
          "height": 538
        }
      },
      "source": [
        "top_N = 10\n",
        "\n",
        "\n",
        "txt = df2.tweet.str.lower().str.replace(r'\\|', ' ').str.cat(sep=' ')\n",
        "words = nltk.tokenize.word_tokenize(txt)\n",
        "word_dist = nltk.FreqDist(words)\n",
        "\n",
        "user_defined_stop_words = ['1', 'ye', 'nin' ,'nın',  'koronavirüs', 'olsun', 'karşı' , 'covid_19', 'artık', '3', 'sayısı' , 'olarak', 'oldu', 'olan', '2' , 'nedeniyle','bile' , 'sonra' ,'sen','virüs', 'ben', 'vaka' , 'son', 'yeni', 'sayi', 'sayisi','virüsü','bir','com','twitter', 'kadar', 'dan' , 'değil' ,'pic' , 'http', 'https' , 'www' , 'status' , 'var', 'bi', 'mi','yok', 'bu' , 've', 'korona' ,'corona' ,'19' ,'kovid', 'covid'] \n",
        "\n",
        "i = nltk.corpus.stopwords.words('turkish')\n",
        "j = list(string.punctuation) + user_defined_stop_words\n",
        "stopwords = set(i).union(j)\n",
        "\n",
        "\n",
        "words_except_stop_dist = nltk.FreqDist(w for w in words if w not in stopwords) \n",
        "\n",
        "print('All frequencies, including STOPWORDS:')\n",
        "print('=' * 60)\n",
        "rslt = pd.DataFrame(word_dist.most_common(top_N),\n",
        "                    columns=['Word', 'Frequency'])\n",
        "print(rslt)\n",
        "print('=' * 60)\n",
        "\n",
        "rslt = pd.DataFrame(words_except_stop_dist.most_common(top_N),\n",
        "                    columns=['Word', 'Frequency']).set_index('Word')\n",
        "\n",
        "matplotlib.style.use('ggplot')\n",
        "plt.figure(figsize=(30,30))\n",
        "rslt.plot.bar(rot=0)\n",
        "plt.savefig('ulkeler_before.png')"
      ],
      "execution_count": 0,
      "outputs": [
        {
          "output_type": "stream",
          "text": [
            "All frequencies, including STOPWORDS:\n",
            "============================================================\n",
            "      Word  Frequency\n",
            "0   corona     140744\n",
            "1      com      54734\n",
            "2  twitter      40010\n",
            "3      bir      35740\n",
            "4       da      33750\n",
            "5   virüsü      29384\n",
            "6     vaka      27939\n",
            "7       bu      27837\n",
            "8    https      27825\n",
            "9      pic      27288\n",
            "============================================================\n"
          ],
          "name": "stdout"
        },
        {
          "output_type": "display_data",
          "data": {
            "text/plain": [
              "<Figure size 2160x2160 with 0 Axes>"
            ]
          },
          "metadata": {
            "tags": []
          }
        },
        {
          "output_type": "display_data",
          "data": {
            "image/png": "[encoded data removed]",
            "text/plain": [
              "<Figure size 432x288 with 1 Axes>"
            ]
          },
          "metadata": {
            "tags": []
          }
        }
      ]
    },
    {
      "cell_type": "code",
      "metadata": {
        "id": "49GVXBYt4nIn",
        "colab_type": "code",
        "outputId": "238a1d2e-d0af-424a-b896-191990930a4a",
        "colab": {
          "base_uri": "https://localhost:8080/",
          "height": 282
        }
      },
      "source": [
        "fig, (ax1, ax2) =  plt.subplots(1,2, sharex=False, sharey= True, figsize=(24,5)) \n",
        "rslt.plot.bar(rot=0, ax =ax2 , title = \"Covid_Before\" )\n",
        "rslt3.plot.bar(rot=0, ax =ax1 , title = \"Covid_After\" )\n",
        "plt.savefig('Covid_comparison.png',dpi=300)"
      ],
      "execution_count": 0,
      "outputs": [
        {
          "output_type": "display_data",
          "data": {
            "image/png": "[encoded data removed]",
            "text/plain": [
              "<Figure size 1728x360 with 2 Axes>"
            ]
          },
          "metadata": {
            "tags": []
          }
        }
      ]
    }
  ]
}